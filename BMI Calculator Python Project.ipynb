{
 "cells": [
  {
   "cell_type": "code",
   "execution_count": 1,
   "id": "22531e77",
   "metadata": {},
   "outputs": [
    {
     "name": "stdout",
     "output_type": "stream",
     "text": [
      "Enter your name: Anthony\n",
      "Enter your weight in pounds: 150\n",
      "Enter your height in inches: 67\n",
      "23.490755179327245\n",
      "Anthony, you are normal weight.\n"
     ]
    }
   ],
   "source": [
    "# Input prompt to calculate BMI\n",
    "\n",
    "name = input(\"Enter your name: \")\n",
    "\n",
    "while True:\n",
    "    weight = input(\"Enter your weight in pounds: \")\n",
    "    try:\n",
    "        weight = int(weight)\n",
    "    except:\n",
    "        print(\"Please use a numerical value in pounds.\")\n",
    "        continue\n",
    "    \n",
    "    if weight < 1:\n",
    "        print(\"Please enter a positive number for weight.\")\n",
    "        continue\n",
    "    break\n",
    "    \n",
    "while True:\n",
    "    height = input(\"Enter your height in inches: \")\n",
    "    try:\n",
    "        height = int(height)\n",
    "    except:\n",
    "        print(\"Please use a numerical value in inches.\")\n",
    "        continue\n",
    "    \n",
    "    if height < 1:\n",
    "        print(\"Please enter a positive number for weight.\")\n",
    "        continue\n",
    "    break\n",
    "\n",
    "# Calculating the BMI\n",
    "# BMI = (weight in pounds x 703) / (height in inches x height in inches)\n",
    "    \n",
    "BMI = (weight * 703) / (height * height)\n",
    "\n",
    "print(BMI)\n",
    "\n",
    "# Interpreting the BMI\n",
    "\n",
    "if BMI > 0:\n",
    "    if(BMI < 18.5):\n",
    "        print(name +\", you are underweight.\")\n",
    "    elif (BMI <= 24.9):\n",
    "        print(name +\", you are normal weight.\")\n",
    "    elif (BMI < 29.9):\n",
    "        print(name +\", you are overweight.\")\n",
    "    elif (BMI < 34.9):\n",
    "        print(name +\", you are obese.\")\n",
    "    elif (BMI < 39.9):\n",
    "        print(name +\", you are severely obese.\")\n",
    "    else:\n",
    "        print(name +\", you are morbidly obese.\")\n",
    "else:\n",
    "    print(\"Enter valid input\")"
   ]
  },
  {
   "cell_type": "code",
   "execution_count": null,
   "id": "c44eb2fe",
   "metadata": {},
   "outputs": [],
   "source": []
  }
 ],
 "metadata": {
  "kernelspec": {
   "display_name": "Python 3 (ipykernel)",
   "language": "python",
   "name": "python3"
  },
  "language_info": {
   "codemirror_mode": {
    "name": "ipython",
    "version": 3
   },
   "file_extension": ".py",
   "mimetype": "text/x-python",
   "name": "python",
   "nbconvert_exporter": "python",
   "pygments_lexer": "ipython3",
   "version": "3.10.5"
  }
 },
 "nbformat": 4,
 "nbformat_minor": 5
}
